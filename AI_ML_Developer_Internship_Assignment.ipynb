{
  "nbformat": 4,
  "nbformat_minor": 0,
  "metadata": {
    "colab": {
      "provenance": []
    },
    "kernelspec": {
      "name": "python3",
      "display_name": "Python 3"
    },
    "language_info": {
      "name": "python"
    }
  },
  "cells": [
    {
      "cell_type": "markdown",
      "source": [
        "# **Task 1: Conversation Management with Reliable Periodic Summarization**"
      ],
      "metadata": {
        "id": "GGzxdofiyFlf"
      }
    },
    {
      "cell_type": "markdown",
      "source": [
        "**Configuration**"
      ],
      "metadata": {
        "id": "ZRNG6ao13TjQ"
      }
    },
    {
      "cell_type": "code",
      "source": [
        "import requests\n",
        "import json\n",
        "\n",
        "API_KEY = \"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\"\n",
        "MODEL = \"llama-3.1-8b-instant\"\n",
        "K = 3  # Summarize after every K messages\n",
        "URL = \"https://api.groq.com/openai/v1/chat/completions\"\n",
        "\n",
        "conversation_history = []\n"
      ],
      "metadata": {
        "id": "uUOno-T23Roq"
      },
      "execution_count": 1,
      "outputs": []
    },
    {
      "cell_type": "markdown",
      "source": [
        "**Helper Functions**"
      ],
      "metadata": {
        "id": "TahOR0Uj3gDo"
      }
    },
    {
      "cell_type": "code",
      "source": [
        "def add_message(role, content):\n",
        "    \"\"\"Add a message to the conversation history.\"\"\"\n",
        "    conversation_history.append({\"role\": role, \"content\": content})\n",
        "\n",
        "def summarize_conversation(conv, max_turns=None, max_chars=None):\n",
        "    \"\"\"\n",
        "    Summarize conversation history in a fixed plain-text format.\n",
        "    Optional truncation by last n messages or last n characters.\n",
        "    \"\"\"\n",
        "    if max_turns:\n",
        "        conv = conv[-max_turns:]\n",
        "    text = \"\\n\".join([f\"{m['role']}: {m['content']}\" for m in conv])\n",
        "    if max_chars:\n",
        "        text = text[-max_chars:]\n",
        "\n",
        "    # Fixed prompt enforcing plain text template\n",
        "    prompt = f\"\"\"\n",
        "Summarize the following conversation in plain text. Follow this template exactly:\n",
        "Issue:\n",
        "Key Point:\n",
        "Action:\n",
        "Next Step:\n",
        "New Request:\n",
        "Final Action:\n",
        "\n",
        "Conversation:\n",
        "{text}\n",
        "\n",
        "Do not use **, ##, bullets, or numbering. Keep it plain text.\n",
        "\"\"\"\n",
        "    payload = {\n",
        "        \"model\": MODEL,\n",
        "        \"messages\": [\n",
        "            {\"role\": \"system\", \"content\": \"You are a helpful assistant that summarizes conversations clearly and concisely.\"},\n",
        "            {\"role\": \"user\", \"content\": prompt}\n",
        "        ],\n",
        "        \"temperature\": 0.3\n",
        "    }\n",
        "\n",
        "    headers = {\"Authorization\": f\"Bearer {API_KEY}\", \"Content-Type\": \"application/json\"}\n",
        "    response = requests.post(URL, headers=headers, data=json.dumps(payload))\n",
        "    result = response.json()\n",
        "\n",
        "    try:\n",
        "        summary = result['choices'][0]['message']['content']\n",
        "    except KeyError:\n",
        "        summary = \"Error generating summary\"\n",
        "\n",
        "    return summary\n",
        "\n",
        "\n",
        "def manage_conversation(role, message):\n",
        "    \"\"\"\n",
        "    Add message to history.\n",
        "    Perform periodic summarization after every K messages.\n",
        "    \"\"\"\n",
        "    add_message(role, message)\n",
        "    if len(conversation_history) % K == 0:\n",
        "        summary = summarize_conversation(conversation_history)\n",
        "        conversation_history.append({\"role\": \"system\", \"content\": f\"Conversation summary: {summary}\"})\n"
      ],
      "metadata": {
        "id": "PIqeXvO63m9P"
      },
      "execution_count": 6,
      "outputs": []
    },
    {
      "cell_type": "markdown",
      "source": [
        "**Demo Conversation**"
      ],
      "metadata": {
        "id": "lA3rlOvR3rXq"
      }
    },
    {
      "cell_type": "code",
      "source": [
        "samples = [\n",
        "    (\"user\", \"Hi, I need help with my account.\"),\n",
        "    (\"assistant\", \"Sure, what seems to be the problem?\"),\n",
        "    (\"user\", \"I forgot my password.\"),\n",
        "    (\"assistant\", \"No worries, I can help you reset it.\"),\n",
        "    (\"user\", \"Thanks, how do I do that?\"),\n",
        "    (\"assistant\", \"Please follow the link to reset your password.\"),\n",
        "    (\"user\", \"Can you help me check my balance?\"),\n",
        "    (\"assistant\", \"Sure, I can provide that.\"),\n",
        "    (\"user\", \"Thank you!\")\n",
        "]\n",
        "\n",
        "for role, msg in samples:\n",
        "    manage_conversation(role, msg)\n"
      ],
      "metadata": {
        "id": "_ZZVIdRM3u_Q"
      },
      "execution_count": 7,
      "outputs": []
    },
    {
      "cell_type": "markdown",
      "source": [
        "**Summarization Demonstrations**"
      ],
      "metadata": {
        "id": "cWlrEa3L3ynX"
      }
    },
    {
      "cell_type": "code",
      "source": [
        "print(\"\\n=== Summarization with last 2 turns ===\")\n",
        "print(summarize_conversation(conversation_history, max_turns=2))\n",
        "\n",
        "print(\"\\n=== Summarization with last 100 characters ===\")\n",
        "print(summarize_conversation(conversation_history, max_chars=100))\n"
      ],
      "metadata": {
        "colab": {
          "base_uri": "https://localhost:8080/"
        },
        "id": "G0jGDWrV30Py",
        "outputId": "edcdd516-d624-4457-c049-9b35f423a9ae"
      },
      "execution_count": 8,
      "outputs": [
        {
          "output_type": "stream",
          "name": "stdout",
          "text": [
            "\n",
            "=== Summarization with last 2 turns ===\n",
            "Issue: Forgotten password and checking account balance\n",
            "Key Point: User needs assistance with password recovery and account balance inquiry.\n",
            "Action: The assistant guided the user through the password recovery process and provided account balance information.\n",
            "Next Step: None, as the user's issue has been resolved.\n",
            "New Request: None\n",
            "Final Action: The user has regained access to their account and received their account balance information.\n",
            "\n",
            "=== Summarization with last 100 characters ===\n",
            "Issue: \n",
            "User regained access to their account and received account balance information.\n",
            "\n",
            "Key Point: \n",
            "Account access and balance information were successfully restored.\n",
            "\n",
            "Action: \n",
            "User expressed gratitude for the assistance.\n",
            "\n",
            "Next Step: \n",
            "None mentioned.\n",
            "\n",
            "New Request: \n",
            "None mentioned.\n",
            "\n",
            "Final Action: \n",
            "User acknowledged the resolution with a thank you.\n"
          ]
        }
      ]
    },
    {
      "cell_type": "markdown",
      "source": [
        "# **Task 2: JSON Schema Classification & Information Extraction**\n"
      ],
      "metadata": {
        "id": "lWxJQpBKyVZD"
      }
    },
    {
      "cell_type": "markdown",
      "source": [
        "**JSON Schema**"
      ],
      "metadata": {
        "id": "hP7MzEsx50nI"
      }
    },
    {
      "cell_type": "code",
      "source": [
        "# Keys: name, email, phone, location, age\n",
        "json_schema = {\n",
        "    \"name\": str,\n",
        "    \"email\": str,\n",
        "    \"phone\": str,\n",
        "    \"location\": str,\n",
        "    \"age\": int\n",
        "}"
      ],
      "metadata": {
        "id": "uC6JxVgt52uo"
      },
      "execution_count": 12,
      "outputs": []
    },
    {
      "cell_type": "markdown",
      "source": [
        "**Sample Chats**"
      ],
      "metadata": {
        "id": "oQmQVvqx64aT"
      }
    },
    {
      "cell_type": "code",
      "source": [
        "sample_chats = [\n",
        "    \"Hello, my name is Shruti Tiwari. You can contact me at shruti.t@example.com or call me on 9876543210. I live in Mumbai and I am 25 years old.\",\n",
        "    \"Hi, I'm Rajesh Kumar. My email is rajesh.kumar@example.com. Phone: 9123456780. I am from Delhi and 30 years old.\",\n",
        "    \"Good morning, my name is Anjali Singh. Email: anjali.singh@example.com. Mobile: 9988776655. Location: Bangalore. Age: 28.\"\n",
        "]"
      ],
      "metadata": {
        "id": "ZtsY_gBj62eK"
      },
      "execution_count": 13,
      "outputs": []
    },
    {
      "cell_type": "markdown",
      "source": [
        "**Function to Extract Data Using Groq API**"
      ],
      "metadata": {
        "id": "8PekZQIX55dP"
      }
    },
    {
      "cell_type": "code",
      "source": [
        "def extract_info_from_chat(chat_text):\n",
        "    \"\"\"\n",
        "    Extract structured info (name, email, phone, location, age) from chat using Groq API.\n",
        "    Cleans output to remove markdown/code blocks and extra text.\n",
        "    \"\"\"\n",
        "    prompt = f\"\"\"\n",
        "Extract the following information from the chat text:\n",
        "- name\n",
        "- email\n",
        "- phone\n",
        "- location\n",
        "- age\n",
        "\n",
        "Return ONLY valid JSON with these keys. Chat text:\n",
        "\\\"\\\"\\\"{chat_text}\\\"\\\"\\\"\n",
        "\"\"\"\n",
        "\n",
        "    payload = {\n",
        "        \"model\": MODEL,\n",
        "        \"messages\": [\n",
        "            {\"role\": \"system\", \"content\": \"You are a helpful assistant that extracts structured information from text.\"},\n",
        "            {\"role\": \"user\", \"content\": prompt}\n",
        "        ],\n",
        "        \"temperature\": 0,\n",
        "        \"max_tokens\": 300\n",
        "    }\n",
        "\n",
        "    headers = {\"Authorization\": f\"Bearer {API_KEY}\", \"Content-Type\": \"application/json\"}\n",
        "    response = requests.post(URL, headers=headers, data=json.dumps(payload))\n",
        "    result = response.json()\n",
        "\n",
        "    try:\n",
        "        output_text = result['choices'][0]['message']['content']\n",
        "\n",
        "        # Remove Markdown code block if present\n",
        "        if output_text.startswith(\"```\"):\n",
        "            output_text = \"\\n\".join(output_text.split(\"\\n\")[1:])  # remove first ``` line\n",
        "            output_text = output_text.rsplit(\"```\", 1)[0]          # remove ending ```\n",
        "\n",
        "        # Extract JSON portion only\n",
        "        match = re.search(r\"\\{.*\\}\", output_text, re.DOTALL)\n",
        "        if match:\n",
        "            json_text = match.group(0)\n",
        "            extracted_json = json.loads(json_text)\n",
        "        else:\n",
        "            extracted_json = {\"error\": \"No valid JSON found\", \"raw_output\": output_text}\n",
        "\n",
        "    except Exception as e:\n",
        "        extracted_json = {\"error\": str(e), \"raw_output\": output_text}\n",
        "\n",
        "    # Ensure age is integer\n",
        "    if \"age\" in extracted_json and isinstance(extracted_json[\"age\"], str):\n",
        "        extracted_json[\"age\"] = int(re.sub(r\"\\D\", \"\", extracted_json[\"age\"]))\n",
        "\n",
        "    return extracted_json"
      ],
      "metadata": {
        "id": "YuNNkzua58Xg"
      },
      "execution_count": 17,
      "outputs": []
    },
    {
      "cell_type": "markdown",
      "source": [
        "**Validation**"
      ],
      "metadata": {
        "id": "Ke0jhHle5-Uh"
      }
    },
    {
      "cell_type": "code",
      "source": [
        "def validate_extracted_data(data, schema):\n",
        "    \"\"\"\n",
        "    Validate extracted data against JSON schema.\n",
        "    Returns True if all keys exist and types match, else False with message.\n",
        "    \"\"\"\n",
        "    if \"error\" in data:\n",
        "        return False, data[\"error\"]\n",
        "\n",
        "    for key, typ in schema.items():\n",
        "        if key not in data:\n",
        "            return False, f\"Missing key: {key}\"\n",
        "        if typ == int:\n",
        "            # Convert numeric strings to int\n",
        "            if not isinstance(data[key], int):\n",
        "                try:\n",
        "                    data[key] = int(re.sub(r\"\\D\", \"\", str(data[key])))\n",
        "                except:\n",
        "                    return False, f\"Invalid type for key {key}\"\n",
        "        else:\n",
        "            if not isinstance(data[key], typ):\n",
        "                return False, f\"Invalid type for key {key}\"\n",
        "\n",
        "    return True, \"Valid\""
      ],
      "metadata": {
        "id": "-FfyGBQz6Atj"
      },
      "execution_count": 15,
      "outputs": []
    },
    {
      "cell_type": "markdown",
      "source": [
        "**Run extraction and validation on sample chats**"
      ],
      "metadata": {
        "id": "se4NrDz77SnF"
      }
    },
    {
      "cell_type": "code",
      "source": [
        "for i, chat in enumerate(sample_chats):\n",
        "    print(f\"\\n=== Sample Chat {i+1} ===\")\n",
        "    print(\"Chat text:\", chat)\n",
        "\n",
        "    extracted = extract_info_from_chat(chat)\n",
        "    print(\"Extracted JSON:\", extracted)\n",
        "\n",
        "    is_valid, msg = validate_extracted_data(extracted, json_schema)\n",
        "    print(\"Validation:\", msg)"
      ],
      "metadata": {
        "colab": {
          "base_uri": "https://localhost:8080/"
        },
        "id": "2MY-IcLD7UAx",
        "outputId": "4232530a-7a7a-4d6c-b6ac-b11260c0a089"
      },
      "execution_count": 18,
      "outputs": [
        {
          "output_type": "stream",
          "name": "stdout",
          "text": [
            "\n",
            "=== Sample Chat 1 ===\n",
            "Chat text: Hello, my name is Shruti Tiwari. You can contact me at shruti.t@example.com or call me on 9876543210. I live in Mumbai and I am 25 years old.\n",
            "Extracted JSON: {'error': \"name 're' is not defined\", 'raw_output': '{\\n  \"name\": \"Shruti Tiwari\",\\n  \"email\": \"shruti.t@example.com\",\\n  \"phone\": \"9876543210\",\\n  \"location\": \"Mumbai\",\\n  \"age\": \"25\"\\n}\\n'}\n",
            "Validation: name 're' is not defined\n",
            "\n",
            "=== Sample Chat 2 ===\n",
            "Chat text: Hi, I'm Rajesh Kumar. My email is rajesh.kumar@example.com. Phone: 9123456780. I am from Delhi and 30 years old.\n",
            "Extracted JSON: {'error': \"name 're' is not defined\", 'raw_output': '{\\n  \"name\": \"Rajesh Kumar\",\\n  \"email\": \"rajesh.kumar@example.com\",\\n  \"phone\": \"9123456780\",\\n  \"location\": \"Delhi\",\\n  \"age\": \"30\"\\n}'}\n",
            "Validation: name 're' is not defined\n",
            "\n",
            "=== Sample Chat 3 ===\n",
            "Chat text: Good morning, my name is Anjali Singh. Email: anjali.singh@example.com. Mobile: 9988776655. Location: Bangalore. Age: 28.\n",
            "Extracted JSON: {'error': \"name 're' is not defined\", 'raw_output': '{\\n    \"name\": \"Anjali Singh\",\\n    \"email\": \"anjali.singh@example.com\",\\n    \"phone\": \"9988776655\",\\n    \"location\": \"Bangalore\",\\n    \"age\": \"28\"\\n}'}\n",
            "Validation: name 're' is not defined\n"
          ]
        }
      ]
    }
  ]
}